{
 "cells": [
  {
   "cell_type": "code",
   "execution_count": 1,
   "metadata": {},
   "outputs": [],
   "source": [
    "import numpy as np \n",
    "import pandas as pd \n",
    "from sklearn.preprocessing import LabelEncoder, StandardScaler"
   ]
  },
  {
   "cell_type": "code",
   "execution_count": 2,
   "metadata": {},
   "outputs": [],
   "source": [
    "# Define the function to assign emotion labels\n",
    "def get_emotion(valence, arousal):\n",
    "    if valence > 0 and arousal > 0:\n",
    "        return 'Happy'\n",
    "    elif valence > 0 and arousal < 0:\n",
    "        return 'Relaxed'\n",
    "    elif valence < 0 and arousal > 0:\n",
    "        return 'Angry'\n",
    "    else:\n",
    "        return 'Sad'"
   ]
  },
  {
   "cell_type": "code",
   "execution_count": 3,
   "metadata": {},
   "outputs": [],
   "source": [
    "df = pd.read_csv('Lyrics_and_audio.csv')\n",
    "\n",
    "# Load the embeddings\n",
    "lyrics_embeddings = np.load('bert_base_embedding_mean.npy')\n",
    "audio_embeddings = np.load('music_features_new.npy')"
   ]
  },
  {
   "cell_type": "code",
   "execution_count": 4,
   "metadata": {},
   "outputs": [],
   "source": [
    "# Apply the function to get emotion labels\n",
    "df['emotion'] = df.apply(lambda x: get_emotion(x['valence'], x['arousal']), axis=1) \n",
    "df[\"label\"] = LabelEncoder().fit_transform(df[\"emotion\"])\n",
    "\n",
    "#Scale features\n",
    "scaler_lyrics = StandardScaler()\n",
    "x_lyrics = lyrics_embeddings\n",
    "x_lyrics_scaled = scaler_lyrics.fit_transform(x_lyrics)\n",
    "\n",
    "scaler_audio = StandardScaler()\n",
    "x_audio = audio_embeddings\n",
    "x_audio_scaled = scaler_audio.fit_transform(x_audio)\n",
    "\n",
    "df[\"lyrics_embedding\"] = x_lyrics_scaled.tolist()\n",
    "df[\"audio_embedding\"] = x_audio_scaled.tolist()"
   ]
  },
  {
   "cell_type": "code",
   "execution_count": 10,
   "metadata": {},
   "outputs": [
    {
     "name": "stdout",
     "output_type": "stream",
     "text": [
      "(13588, 768)\n"
     ]
    }
   ],
   "source": [
    "df.head()\n",
    "\n"
   ]
  },
  {
   "cell_type": "code",
   "execution_count": 6,
   "metadata": {},
   "outputs": [
    {
     "name": "stdout",
     "output_type": "stream",
     "text": [
      "(10870, 12) (2718, 12)\n"
     ]
    }
   ],
   "source": [
    "\n",
    "from sklearn.model_selection import train_test_split\n",
    "\n",
    "# Assuming 'target' is the name of your target variable column in 'df'\n",
    "X = df.drop('label', axis=1)  # Features\n",
    "y = df['label']  # Target\n",
    "\n",
    "# Splitting the data (here, stratify=y ensures that the distribution of classes in splits is similar)\n",
    "X_train, X_test, y_train, y_test = train_test_split(X, y, test_size=0.2, random_state=42, stratify=y)\n",
    "\n",
    "# Recombine X and y into full DataFrames for saving\n",
    "train_df = pd.concat([X_train, y_train], axis=1)\n",
    "test_df = pd.concat([X_test, y_test], axis=1)\n",
    "\n",
    "\n",
    "print(train_df.shape, test_df.shape)"
   ]
  },
  {
   "cell_type": "code",
   "execution_count": 7,
   "metadata": {},
   "outputs": [],
   "source": [
    "#make sure that the folder database exists\n",
    "df.to_csv('database/LaA_full.csv', index=False)\n",
    "train_df.to_csv('database/LaA_train.csv', index=False)\n",
    "test_df.to_csv('database/LaA_test.csv', index=False)\n"
   ]
  },
  {
   "cell_type": "code",
   "execution_count": 8,
   "metadata": {},
   "outputs": [
    {
     "data": {
      "text/plain": [
       "\"embeddings = df['lyrics_embedding'].apply(ast.literal_eval).apply(np.array)\\nembeddings_array = np.array(embeddings.tolist())\""
      ]
     },
     "execution_count": 8,
     "metadata": {},
     "output_type": "execute_result"
    }
   ],
   "source": [
    "#to trainsform the embdeddings to a list of arrays\n",
    "\"\"\"embeddings = df['lyrics_embedding'].apply(ast.literal_eval).apply(np.array)\n",
    "embeddings_array = np.array(embeddings.tolist())\"\"\""
   ]
  }
 ],
 "metadata": {
  "kernelspec": {
   "display_name": "learn",
   "language": "python",
   "name": "python3"
  },
  "language_info": {
   "codemirror_mode": {
    "name": "ipython",
    "version": 3
   },
   "file_extension": ".py",
   "mimetype": "text/x-python",
   "name": "python",
   "nbconvert_exporter": "python",
   "pygments_lexer": "ipython3",
   "version": "3.11.5"
  }
 },
 "nbformat": 4,
 "nbformat_minor": 2
}
