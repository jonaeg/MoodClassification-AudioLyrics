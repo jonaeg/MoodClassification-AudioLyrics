{
 "cells": [
  {
   "cell_type": "code",
   "execution_count": 8,
   "metadata": {},
   "outputs": [],
   "source": [
    "import numpy as np \n",
    "import pandas as pd \n",
    "from sklearn.preprocessing import LabelEncoder, StandardScaler\n"
   ]
  },
  {
   "cell_type": "code",
   "execution_count": 2,
   "metadata": {},
   "outputs": [],
   "source": [
    "# Define the function to assign emotion labels\n",
    "def get_emotion(valence, arousal):\n",
    "    if valence > 0 and arousal > 0:\n",
    "        return 'Happy'\n",
    "    elif valence > 0 and arousal < 0:\n",
    "        return 'Relaxed'\n",
    "    elif valence < 0 and arousal > 0:\n",
    "        return 'Angry'\n",
    "    else:\n",
    "        return 'Sad'"
   ]
  },
  {
   "cell_type": "code",
   "execution_count": 3,
   "metadata": {},
   "outputs": [],
   "source": [
    "df = pd.read_csv('Lyrics_and_audio.csv')\n",
    "\n",
    "# Load the embeddings\n",
    "lyrics_embeddings = np.load('bert_base_embedding_mean.npy')\n",
    "audio_embeddings = np.load('music_features_new.npy')"
   ]
  },
  {
   "cell_type": "code",
   "execution_count": 4,
   "metadata": {},
   "outputs": [],
   "source": [
    "# Apply the function to get emotion labels\n",
    "df['emotion'] = df.apply(lambda x: get_emotion(x['valence'], x['arousal']), axis=1) \n",
    "df[\"label\"] = LabelEncoder().fit_transform(df[\"emotion\"])\n",
    "\n",
    "#Scale features\n",
    "scaler_lyrics = StandardScaler()\n",
    "x_lyrics = lyrics_embeddings\n",
    "x_lyrics_scaled = scaler_lyrics.fit_transform(x_lyrics)\n",
    "\n",
    "scaler_audio = StandardScaler()\n",
    "x_audio = audio_embeddings\n",
    "x_audio_scaled = scaler_audio.fit_transform(x_audio)\n",
    "\n",
    "df[\"lyrics_embedding\"] = x_lyrics_scaled.tolist()\n",
    "df[\"audio_embedding\"] = x_audio_scaled.tolist()"
   ]
  },
  {
   "cell_type": "code",
   "execution_count": 5,
   "metadata": {},
   "outputs": [
    {
     "data": {
      "text/html": [
       "<div>\n",
       "<style scoped>\n",
       "    .dataframe tbody tr th:only-of-type {\n",
       "        vertical-align: middle;\n",
       "    }\n",
       "\n",
       "    .dataframe tbody tr th {\n",
       "        vertical-align: top;\n",
       "    }\n",
       "\n",
       "    .dataframe thead th {\n",
       "        text-align: right;\n",
       "    }\n",
       "</style>\n",
       "<table border=\"1\" class=\"dataframe\">\n",
       "  <thead>\n",
       "    <tr style=\"text-align: right;\">\n",
       "      <th></th>\n",
       "      <th>Unnamed: 0</th>\n",
       "      <th>artist_name</th>\n",
       "      <th>track_name</th>\n",
       "      <th>valence</th>\n",
       "      <th>arousal</th>\n",
       "      <th>lyrics</th>\n",
       "      <th>audio_url</th>\n",
       "      <th>search_method</th>\n",
       "      <th>emotion</th>\n",
       "      <th>label</th>\n",
       "      <th>lyrics_embedding</th>\n",
       "      <th>audio_embedding</th>\n",
       "    </tr>\n",
       "  </thead>\n",
       "  <tbody>\n",
       "    <tr>\n",
       "      <th>0</th>\n",
       "      <td>0</td>\n",
       "      <td>Dark Tranquillity</td>\n",
       "      <td>Insanity's Crescendo</td>\n",
       "      <td>-0.682725</td>\n",
       "      <td>0.316758</td>\n",
       "      <td>Gently, hold our heads\\nGently, hold our heads...</td>\n",
       "      <td>https://p.scdn.co/mp3-preview/02da3985fa31be8e...</td>\n",
       "      <td>artist_and_song</td>\n",
       "      <td>Angry</td>\n",
       "      <td>0</td>\n",
       "      <td>[-1.0208461284637451, -0.8520400524139404, -0....</td>\n",
       "      <td>[1.0031619446180784, 1.8927104401019623, 1.139...</td>\n",
       "    </tr>\n",
       "    <tr>\n",
       "      <th>1</th>\n",
       "      <td>1</td>\n",
       "      <td>Anorexia Nervosa</td>\n",
       "      <td>Stabat mater dolorosa</td>\n",
       "      <td>-1.400403</td>\n",
       "      <td>1.538229</td>\n",
       "      <td>We are the Sun\\nWe are the dead stars\\nWe are ...</td>\n",
       "      <td>https://p.scdn.co/mp3-preview/05a227d6230a3142...</td>\n",
       "      <td>artist_and_song</td>\n",
       "      <td>Angry</td>\n",
       "      <td>0</td>\n",
       "      <td>[-0.2731671631336212, 0.809808611869812, -0.41...</td>\n",
       "      <td>[1.5795968026593599, 1.5535886711605853, 1.663...</td>\n",
       "    </tr>\n",
       "    <tr>\n",
       "      <th>2</th>\n",
       "      <td>2</td>\n",
       "      <td>Jimmy Witherspoon</td>\n",
       "      <td>Ain't Nobody's Business</td>\n",
       "      <td>-1.935250</td>\n",
       "      <td>-0.655810</td>\n",
       "      <td>There ain't nothin' I can do, or nothin' I can...</td>\n",
       "      <td>https://p.scdn.co/mp3-preview/ab0cabf789d9c21b...</td>\n",
       "      <td>artist_and_song</td>\n",
       "      <td>Sad</td>\n",
       "      <td>3</td>\n",
       "      <td>[0.8376363515853882, 1.0716524124145508, -1.23...</td>\n",
       "      <td>[-1.4607582567943052, -0.8163734052526718, -0....</td>\n",
       "    </tr>\n",
       "    <tr>\n",
       "      <th>3</th>\n",
       "      <td>3</td>\n",
       "      <td>Uniting Nations</td>\n",
       "      <td>Out Of Touch</td>\n",
       "      <td>0.815393</td>\n",
       "      <td>0.662457</td>\n",
       "      <td>You're out of touch\\nI'm out of time\\nBut I'm ...</td>\n",
       "      <td>https://p.scdn.co/mp3-preview/7ad5436e7e5b9aa8...</td>\n",
       "      <td>artist_and_song</td>\n",
       "      <td>Happy</td>\n",
       "      <td>1</td>\n",
       "      <td>[2.022939443588257, 2.686640977859497, -0.1232...</td>\n",
       "      <td>[0.011418429764785019, 0.06820594322144538, 0....</td>\n",
       "    </tr>\n",
       "    <tr>\n",
       "      <th>4</th>\n",
       "      <td>4</td>\n",
       "      <td>The Walkmen</td>\n",
       "      <td>Brandy alexander</td>\n",
       "      <td>1.257460</td>\n",
       "      <td>1.086515</td>\n",
       "      <td>You finally close the door\\nYou've left open w...</td>\n",
       "      <td>https://p.scdn.co/mp3-preview/146da18bb39a6127...</td>\n",
       "      <td>artist_and_song</td>\n",
       "      <td>Happy</td>\n",
       "      <td>1</td>\n",
       "      <td>[0.7350648641586304, 0.9623024463653564, -0.36...</td>\n",
       "      <td>[0.12108597540903669, -0.5076210311513804, -0....</td>\n",
       "    </tr>\n",
       "  </tbody>\n",
       "</table>\n",
       "</div>"
      ],
      "text/plain": [
       "   Unnamed: 0        artist_name               track_name   valence   arousal  \\\n",
       "0           0  Dark Tranquillity     Insanity's Crescendo -0.682725  0.316758   \n",
       "1           1   Anorexia Nervosa    Stabat mater dolorosa -1.400403  1.538229   \n",
       "2           2  Jimmy Witherspoon  Ain't Nobody's Business -1.935250 -0.655810   \n",
       "3           3    Uniting Nations             Out Of Touch  0.815393  0.662457   \n",
       "4           4        The Walkmen         Brandy alexander  1.257460  1.086515   \n",
       "\n",
       "                                              lyrics  \\\n",
       "0  Gently, hold our heads\\nGently, hold our heads...   \n",
       "1  We are the Sun\\nWe are the dead stars\\nWe are ...   \n",
       "2  There ain't nothin' I can do, or nothin' I can...   \n",
       "3  You're out of touch\\nI'm out of time\\nBut I'm ...   \n",
       "4  You finally close the door\\nYou've left open w...   \n",
       "\n",
       "                                           audio_url    search_method emotion  \\\n",
       "0  https://p.scdn.co/mp3-preview/02da3985fa31be8e...  artist_and_song   Angry   \n",
       "1  https://p.scdn.co/mp3-preview/05a227d6230a3142...  artist_and_song   Angry   \n",
       "2  https://p.scdn.co/mp3-preview/ab0cabf789d9c21b...  artist_and_song     Sad   \n",
       "3  https://p.scdn.co/mp3-preview/7ad5436e7e5b9aa8...  artist_and_song   Happy   \n",
       "4  https://p.scdn.co/mp3-preview/146da18bb39a6127...  artist_and_song   Happy   \n",
       "\n",
       "   label                                   lyrics_embedding  \\\n",
       "0      0  [-1.0208461284637451, -0.8520400524139404, -0....   \n",
       "1      0  [-0.2731671631336212, 0.809808611869812, -0.41...   \n",
       "2      3  [0.8376363515853882, 1.0716524124145508, -1.23...   \n",
       "3      1  [2.022939443588257, 2.686640977859497, -0.1232...   \n",
       "4      1  [0.7350648641586304, 0.9623024463653564, -0.36...   \n",
       "\n",
       "                                     audio_embedding  \n",
       "0  [1.0031619446180784, 1.8927104401019623, 1.139...  \n",
       "1  [1.5795968026593599, 1.5535886711605853, 1.663...  \n",
       "2  [-1.4607582567943052, -0.8163734052526718, -0....  \n",
       "3  [0.011418429764785019, 0.06820594322144538, 0....  \n",
       "4  [0.12108597540903669, -0.5076210311513804, -0....  "
      ]
     },
     "execution_count": 5,
     "metadata": {},
     "output_type": "execute_result"
    }
   ],
   "source": [
    "df.head()\n",
    "\n"
   ]
  },
  {
   "cell_type": "code",
   "execution_count": 6,
   "metadata": {},
   "outputs": [
    {
     "name": "stdout",
     "output_type": "stream",
     "text": [
      "(10870, 12) (2718, 12)\n"
     ]
    }
   ],
   "source": [
    "\n",
    "from sklearn.model_selection import train_test_split\n",
    "\n",
    "# Assuming 'target' is the name of your target variable column in 'df'\n",
    "X = df.drop('label', axis=1)  # Features\n",
    "y = df['label']  # Target\n",
    "\n",
    "# Splitting the data (here, stratify=y ensures that the distribution of classes in splits is similar)\n",
    "X_train, X_test, y_train, y_test = train_test_split(X, y, test_size=0.2, random_state=42, stratify=y)\n",
    "\n",
    "# Recombine X and y into full DataFrames for saving\n",
    "train_df = pd.concat([X_train, y_train], axis=1)\n",
    "test_df = pd.concat([X_test, y_test], axis=1)\n",
    "\n",
    "\n",
    "print(train_df.shape, test_df.shape)"
   ]
  },
  {
   "cell_type": "code",
   "execution_count": 9,
   "metadata": {},
   "outputs": [],
   "source": [
    "#make sure that the folder database exists\n",
    "\n",
    "df.to_csv('database/LaA_full.csv', index=False)\n",
    "train_df.to_csv('database/LaA_train.csv', index=False)\n",
    "test_df.to_csv('database/LaA_test.csv', index=False)\n"
   ]
  },
  {
   "cell_type": "code",
   "execution_count": null,
   "metadata": {},
   "outputs": [
    {
     "data": {
      "text/plain": [
       "\"embeddings = df['lyrics_embedding'].apply(ast.literal_eval).apply(np.array)\\nembeddings_array = np.array(embeddings.tolist())\""
      ]
     },
     "execution_count": 8,
     "metadata": {},
     "output_type": "execute_result"
    }
   ],
   "source": [
    "#to trainsform the embdeddings to a list of arrays\n",
    "\"\"\"embeddings = df['lyrics_embedding'].apply(ast.literal_eval).apply(np.array)\n",
    "embeddings_array = np.array(embeddings.tolist())\"\"\""
   ]
  }
 ],
 "metadata": {
  "kernelspec": {
   "display_name": "learn",
   "language": "python",
   "name": "python3"
  },
  "language_info": {
   "codemirror_mode": {
    "name": "ipython",
    "version": 3
   },
   "file_extension": ".py",
   "mimetype": "text/x-python",
   "name": "python",
   "nbconvert_exporter": "python",
   "pygments_lexer": "ipython3",
   "version": "3.11.5"
  }
 },
 "nbformat": 4,
 "nbformat_minor": 2
}
