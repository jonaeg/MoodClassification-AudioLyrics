{
 "cells": [
  {
   "cell_type": "markdown",
   "metadata": {},
   "source": [
    "Don not change the code below"
   ]
  },
  {
   "cell_type": "code",
   "execution_count": 1,
   "metadata": {},
   "outputs": [],
   "source": [
    "import numpy as np\n",
    "import pandas as pd\n",
    "from sklearn.model_selection import train_test_split\n",
    "from sklearn.svm import SVC\n",
    "from sklearn.metrics import accuracy_score\n",
    "from sklearn.preprocessing import LabelEncoder, StandardScaler\n",
    "import ast\n",
    "import torch\n",
    "from sklearn.decomposition import PCA\n",
    "from joblib import dump, load\n"
   ]
  },
  {
   "cell_type": "code",
   "execution_count": 2,
   "metadata": {},
   "outputs": [
    {
     "data": {
      "text/html": [
       "<div>\n",
       "<style scoped>\n",
       "    .dataframe tbody tr th:only-of-type {\n",
       "        vertical-align: middle;\n",
       "    }\n",
       "\n",
       "    .dataframe tbody tr th {\n",
       "        vertical-align: top;\n",
       "    }\n",
       "\n",
       "    .dataframe thead th {\n",
       "        text-align: right;\n",
       "    }\n",
       "</style>\n",
       "<table border=\"1\" class=\"dataframe\">\n",
       "  <thead>\n",
       "    <tr style=\"text-align: right;\">\n",
       "      <th></th>\n",
       "      <th>Unnamed: 0</th>\n",
       "      <th>artist_name</th>\n",
       "      <th>track_name</th>\n",
       "      <th>valence</th>\n",
       "      <th>arousal</th>\n",
       "      <th>lyrics</th>\n",
       "      <th>audio_url</th>\n",
       "      <th>search_method</th>\n",
       "      <th>emotion</th>\n",
       "      <th>lyrics_embedding</th>\n",
       "      <th>audio_embedding</th>\n",
       "      <th>label</th>\n",
       "    </tr>\n",
       "  </thead>\n",
       "  <tbody>\n",
       "    <tr>\n",
       "      <th>0</th>\n",
       "      <td>6481</td>\n",
       "      <td>Alexz Johnson</td>\n",
       "      <td>White Lines</td>\n",
       "      <td>0.678952</td>\n",
       "      <td>-2.333604</td>\n",
       "      <td>I tried to tell you\\nI've got to get away\\nI t...</td>\n",
       "      <td>https://p.scdn.co/mp3-preview/eae97329ac7135a5...</td>\n",
       "      <td>artist_and_song</td>\n",
       "      <td>Relaxed</td>\n",
       "      <td>[0.5272476077079773, 1.168580174446106, 0.1721...</td>\n",
       "      <td>[0.7431232416583579, 0.20046921661336187, 0.23...</td>\n",
       "      <td>2</td>\n",
       "    </tr>\n",
       "    <tr>\n",
       "      <th>1</th>\n",
       "      <td>9075</td>\n",
       "      <td>Turntablerocker</td>\n",
       "      <td>No Melody</td>\n",
       "      <td>0.373325</td>\n",
       "      <td>-0.923151</td>\n",
       "      <td>We've got the song\\nBut they got no melody\\nNo...</td>\n",
       "      <td>https://p.scdn.co/mp3-preview/4f397176ee912edf...</td>\n",
       "      <td>artist_and_song</td>\n",
       "      <td>Relaxed</td>\n",
       "      <td>[-0.5302870273590088, -1.6064175367355347, 1.8...</td>\n",
       "      <td>[2.089026585978773, 1.0356926605543044, 0.7353...</td>\n",
       "      <td>2</td>\n",
       "    </tr>\n",
       "    <tr>\n",
       "      <th>2</th>\n",
       "      <td>9082</td>\n",
       "      <td>Lamb</td>\n",
       "      <td>Zero</td>\n",
       "      <td>-0.367547</td>\n",
       "      <td>-0.939283</td>\n",
       "      <td>LAMB: ZERO\\n\\nThere's no one here today\\n'Caus...</td>\n",
       "      <td>https://p.scdn.co/mp3-preview/f65a72ecfbf7c304...</td>\n",
       "      <td>artist_and_song</td>\n",
       "      <td>Sad</td>\n",
       "      <td>[0.054062437266111374, 0.38927221298217773, -0...</td>\n",
       "      <td>[0.8801736065962609, 1.9399530531306048, 2.596...</td>\n",
       "      <td>3</td>\n",
       "    </tr>\n",
       "    <tr>\n",
       "      <th>3</th>\n",
       "      <td>10587</td>\n",
       "      <td>Einstuerzende Neubauten</td>\n",
       "      <td>Youme &amp; Meyou</td>\n",
       "      <td>0.526139</td>\n",
       "      <td>-1.628377</td>\n",
       "      <td>They build a ship each wintertime\\nFor launch ...</td>\n",
       "      <td>https://p.scdn.co/mp3-preview/a2acca0ac29d3a0a...</td>\n",
       "      <td>artist_and_song</td>\n",
       "      <td>Relaxed</td>\n",
       "      <td>[-1.2014904022216797, -0.5136592388153076, -0....</td>\n",
       "      <td>[0.5157966639886593, 1.5658099646756507, 1.259...</td>\n",
       "      <td>2</td>\n",
       "    </tr>\n",
       "    <tr>\n",
       "      <th>4</th>\n",
       "      <td>9177</td>\n",
       "      <td>Mouse On Mars</td>\n",
       "      <td>Wipe That Sound</td>\n",
       "      <td>0.815393</td>\n",
       "      <td>0.662457</td>\n",
       "      <td>Kick the can\\nI kick, kick kick the can\\nI kic...</td>\n",
       "      <td>https://p.scdn.co/mp3-preview/a803171c426e144d...</td>\n",
       "      <td>artist_and_song</td>\n",
       "      <td>Happy</td>\n",
       "      <td>[-0.42865195870399475, 0.8299823999404907, 1.1...</td>\n",
       "      <td>[2.3368670630266033, 1.3798174751404781, 0.647...</td>\n",
       "      <td>1</td>\n",
       "    </tr>\n",
       "  </tbody>\n",
       "</table>\n",
       "</div>"
      ],
      "text/plain": [
       "   Unnamed: 0              artist_name       track_name   valence   arousal  \\\n",
       "0        6481            Alexz Johnson      White Lines  0.678952 -2.333604   \n",
       "1        9075          Turntablerocker        No Melody  0.373325 -0.923151   \n",
       "2        9082                     Lamb             Zero -0.367547 -0.939283   \n",
       "3       10587  Einstuerzende Neubauten    Youme & Meyou  0.526139 -1.628377   \n",
       "4        9177            Mouse On Mars  Wipe That Sound  0.815393  0.662457   \n",
       "\n",
       "                                              lyrics  \\\n",
       "0  I tried to tell you\\nI've got to get away\\nI t...   \n",
       "1  We've got the song\\nBut they got no melody\\nNo...   \n",
       "2  LAMB: ZERO\\n\\nThere's no one here today\\n'Caus...   \n",
       "3  They build a ship each wintertime\\nFor launch ...   \n",
       "4  Kick the can\\nI kick, kick kick the can\\nI kic...   \n",
       "\n",
       "                                           audio_url    search_method  \\\n",
       "0  https://p.scdn.co/mp3-preview/eae97329ac7135a5...  artist_and_song   \n",
       "1  https://p.scdn.co/mp3-preview/4f397176ee912edf...  artist_and_song   \n",
       "2  https://p.scdn.co/mp3-preview/f65a72ecfbf7c304...  artist_and_song   \n",
       "3  https://p.scdn.co/mp3-preview/a2acca0ac29d3a0a...  artist_and_song   \n",
       "4  https://p.scdn.co/mp3-preview/a803171c426e144d...  artist_and_song   \n",
       "\n",
       "   emotion                                   lyrics_embedding  \\\n",
       "0  Relaxed  [0.5272476077079773, 1.168580174446106, 0.1721...   \n",
       "1  Relaxed  [-0.5302870273590088, -1.6064175367355347, 1.8...   \n",
       "2      Sad  [0.054062437266111374, 0.38927221298217773, -0...   \n",
       "3  Relaxed  [-1.2014904022216797, -0.5136592388153076, -0....   \n",
       "4    Happy  [-0.42865195870399475, 0.8299823999404907, 1.1...   \n",
       "\n",
       "                                     audio_embedding  label  \n",
       "0  [0.7431232416583579, 0.20046921661336187, 0.23...      2  \n",
       "1  [2.089026585978773, 1.0356926605543044, 0.7353...      2  \n",
       "2  [0.8801736065962609, 1.9399530531306048, 2.596...      3  \n",
       "3  [0.5157966639886593, 1.5658099646756507, 1.259...      2  \n",
       "4  [2.3368670630266033, 1.3798174751404781, 0.647...      1  "
      ]
     },
     "execution_count": 2,
     "metadata": {},
     "output_type": "execute_result"
    }
   ],
   "source": [
    "df_train = pd.read_csv('database/LaA_train.csv')\n",
    "df_test = pd.read_csv('database/LaA_test.csv')\n",
    "df_train.head()"
   ]
  },
  {
   "cell_type": "code",
   "execution_count": 7,
   "metadata": {},
   "outputs": [],
   "source": [
    "embeddings_train = df_train['audio_embedding'].apply(ast.literal_eval).apply(np.array)\n",
    "x_train = np.stack(embeddings_train.values)\n",
    "embeddings_test = df_test['audio_embedding'].apply(ast.literal_eval).apply(np.array)\n",
    "x_test = np.stack(embeddings_test.values)\n",
    "\n",
    "y_train = df_train['label']\n",
    "y_test = df_test['label']"
   ]
  },
  {
   "cell_type": "code",
   "execution_count": 4,
   "metadata": {},
   "outputs": [
    {
     "name": "stdout",
     "output_type": "stream",
     "text": [
      "Accuracy (Test): 41.57%\n",
      "Accuracy (Training): 58.96%\n"
     ]
    }
   ],
   "source": [
    "# Initialize and train the SVM classifier on the scaled dataset\n",
    "svm_classifier = SVC(kernel='rbf', C=1, gamma='auto', probability=True)\n",
    "svm_classifier.fit(x_train, y_train)\n",
    "\n",
    "# Predict the test set probabilities and labels\n",
    "y_pred_prob = svm_classifier.predict_proba(x_test)\n",
    "y_pred = svm_classifier.predict(x_test) \n",
    "\n",
    "# Calculate accuracy\n",
    "accuracy_svm = accuracy_score(y_test, y_pred)\n",
    "accuracy_svm_training = accuracy_score(y_train, svm_classifier.predict(x_train))\n",
    "\n",
    "print(f\"Accuracy (Test): {accuracy_svm * 100:.2f}%\")\n",
    "print(f\"Accuracy (Training): {accuracy_svm_training * 100:.2f}%\")\n"
   ]
  },
  {
   "cell_type": "code",
   "execution_count": 8,
   "metadata": {},
   "outputs": [
    {
     "data": {
      "text/plain": [
       "['models/SVM_audio.joblib']"
      ]
     },
     "execution_count": 8,
     "metadata": {},
     "output_type": "execute_result"
    }
   ],
   "source": [
    "name = \"models/SVM_audio.joblib\"\n",
    "dump(svm_classifier, name)\n",
    "\n",
    "# Load the model (when needed)\n",
    "#svm_classifier_loaded = load(name)"
   ]
  },
  {
   "cell_type": "code",
   "execution_count": 6,
   "metadata": {},
   "outputs": [
    {
     "data": {
      "text/plain": [
       "'pca = PCA(n_components=0.95)  # Retain 95% of variance\\nX_train_pca = pca.fit_transform(x_train_scaled)\\nX_test_pca = pca.transform(x_test_scaled)\\n\\nprint(f\"Reduced dimensionality to {pca.n_components_} components.\")\\n\\n# Initialize and train the SVM classifier on the reduced dataset\\nsvm_classifier_pca = SVC(kernel=\\'rbf\\', C=0.6, gamma=\\'auto\\')\\nsvm_classifier_pca.fit(X_train_pca, y_train)\\n\\n# Predict the test set\\ny_pred_pca = svm_classifier_pca.predict(X_test_pca)\\ny_pred_pca_training = svm_classifier_pca.predict(X_train_pca)\\n# Calculate accuracy\\naccuracy_svm_pca = accuracy_score(y_test, y_pred_pca)\\naccuracy_svm_pca_training = accuracy_score(y_train, y_pred_pca_training)\\n\\nprint(f\"Accuracy (Test): {accuracy_svm_pca * 100:.2f}%\")\\nprint(f\"Accuracy (Trainning): {accuracy_svm_pca_training * 100:.2f}%\")'"
      ]
     },
     "execution_count": 6,
     "metadata": {},
     "output_type": "execute_result"
    }
   ],
   "source": [
    "\n",
    "\"\"\"pca = PCA(n_components=0.95)  # Retain 95% of variance\n",
    "X_train_pca = pca.fit_transform(x_train_scaled)\n",
    "X_test_pca = pca.transform(x_test_scaled)\n",
    "\n",
    "print(f\"Reduced dimensionality to {pca.n_components_} components.\")\n",
    "\n",
    "# Initialize and train the SVM classifier on the reduced dataset\n",
    "svm_classifier_pca = SVC(kernel='rbf', C=0.6, gamma='auto')\n",
    "svm_classifier_pca.fit(X_train_pca, y_train)\n",
    "\n",
    "# Predict the test set\n",
    "y_pred_pca = svm_classifier_pca.predict(X_test_pca)\n",
    "y_pred_pca_training = svm_classifier_pca.predict(X_train_pca)\n",
    "# Calculate accuracy\n",
    "accuracy_svm_pca = accuracy_score(y_test, y_pred_pca)\n",
    "accuracy_svm_pca_training = accuracy_score(y_train, y_pred_pca_training)\n",
    "\n",
    "print(f\"Accuracy (Test): {accuracy_svm_pca * 100:.2f}%\")\n",
    "print(f\"Accuracy (Trainning): {accuracy_svm_pca_training * 100:.2f}%\")\"\"\"\n"
   ]
  },
  {
   "cell_type": "markdown",
   "metadata": {},
   "source": [
    "# Analyis Model"
   ]
  },
  {
   "cell_type": "code",
   "execution_count": null,
   "metadata": {},
   "outputs": [],
   "source": [
    "\n"
   ]
  },
  {
   "cell_type": "code",
   "execution_count": null,
   "metadata": {},
   "outputs": [],
   "source": []
  }
 ],
 "metadata": {
  "kernelspec": {
   "display_name": "learn",
   "language": "python",
   "name": "python3"
  },
  "language_info": {
   "codemirror_mode": {
    "name": "ipython",
    "version": 3
   },
   "file_extension": ".py",
   "mimetype": "text/x-python",
   "name": "python",
   "nbconvert_exporter": "python",
   "pygments_lexer": "ipython3",
   "version": "3.11.5"
  }
 },
 "nbformat": 4,
 "nbformat_minor": 2
}
